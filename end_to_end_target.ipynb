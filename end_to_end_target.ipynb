{
 "cells": [
  {
   "cell_type": "markdown",
   "metadata": {},
   "source": [
    "## Stop Delays and End-to-end Travel Times ##\n",
    "\n",
    "A comparison of the target bus routes - 22, 29, 45, 28, 44, 42, 17, 23, 31, 26, 111, 24, 33, 14\n",
    "in terms of end-to-end travel times and delays"
   ]
  },
  {
   "cell_type": "code",
   "execution_count": 9,
   "metadata": {},
   "outputs": [],
   "source": [
    "import pandas as pd \n",
    "import numpy as np \n",
    "import matplotlib as plt\n",
    "import endtoend, delay\n",
    "\n",
    "\n",
    "targeted_routes = [22, 29, 45, 28, 44, 42, 17, 23, 31, 26, 111, 24, 33, 14]"
   ]
  },
  {
   "cell_type": "markdown",
   "metadata": {},
   "source": [
    "## Section 1: Analyses of delays across routes ##"
   ]
  },
  {
   "cell_type": "markdown",
   "metadata": {},
   "source": []
  }
 ],
 "metadata": {
  "kernelspec": {
   "display_name": "Python 3",
   "language": "python",
   "name": "python3"
  },
  "language_info": {
   "codemirror_mode": {
    "name": "ipython",
    "version": 3
   },
   "file_extension": ".py",
   "mimetype": "text/x-python",
   "name": "python",
   "nbconvert_exporter": "python",
   "pygments_lexer": "ipython3",
   "version": "3.10.11"
  }
 },
 "nbformat": 4,
 "nbformat_minor": 2
}
