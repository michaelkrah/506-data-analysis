{
 "cells": [
  {
   "cell_type": "code",
   "execution_count": null,
   "metadata": {},
   "outputs": [],
   "source": [
    "import numpy as np\n",
    "import matplotlib.pyplot as plt\n",
    "import pandas as pd\n",
    "\n"
   ]
  },
  {
   "cell_type": "code",
   "execution_count": null,
   "metadata": {},
   "outputs": [],
   "source": [
    "# Example file for testing / developing a quick understanding\n",
    "filename = \"MBTA-Bus-Arrival-Departure-Times_2024-12.csv\"\n"
   ]
  },
  {
   "cell_type": "code",
   "execution_count": null,
   "metadata": {},
   "outputs": [],
   "source": [
    "df = pd.read_csv(filename, low_memory=False)\n",
    "\n",
    "print(df.head())\n",
    "print(df.shape)\n",
    "print(df.describe)"
   ]
  },
  {
   "cell_type": "code",
   "execution_count": null,
   "metadata": {},
   "outputs": [],
   "source": [
    "# Calculate delay for each line\n",
    "df['time_difference'] = pd.to_datetime(df['actual']) - pd.to_datetime(df['scheduled'])\n",
    "df['delay_seconds'] = df['time_difference'].dt.total_seconds()"
   ]
  },
  {
   "cell_type": "code",
   "execution_count": null,
   "metadata": {},
   "outputs": [],
   "source": [
    "df['delay_headway'] = df['headway'] - df['scheduled_headway']"
   ]
  },
  {
   "cell_type": "code",
   "execution_count": null,
   "metadata": {},
   "outputs": [],
   "source": [
    "# Following findings from other file\n",
    "filtered_df = df[(df['delay_seconds'] >= -1200) & (df['delay_seconds'] <= 1200)]"
   ]
  },
  {
   "cell_type": "code",
   "execution_count": null,
   "metadata": {},
   "outputs": [],
   "source": [
    "filtered_df['abs_delay'] = filtered_df['delay_seconds'].abs()\n",
    "\n",
    "avg_delay_per_route = filtered_df.groupby('route_id')['abs_delay'].mean().reset_index()\n",
    "avg_delay_per_route.rename(columns={'abs_delay': 'average_delay'}, inplace=True)\n",
    "\n",
    "print(avg_delay_per_route)\n"
   ]
  },
  {
   "cell_type": "code",
   "execution_count": null,
   "metadata": {},
   "outputs": [],
   "source": [
    "target_routes = {\"22\", \"29\", \"15\", \"45\", \"28\", \"44\", \"42\", \"17\", \"23\", \"31\", \"26\", \"111\", \"24\", \"33\", \"14\"}\n",
    "\n",
    "\n",
    "colors = ['red' if route in target_routes else 'skyblue' for route in avg_delay_per_route['route_id']]\n",
    "\n",
    "# Plot a bar chart using the colors list\n",
    "plt.figure(figsize=(12, 6))\n",
    "plt.bar(avg_delay_per_route['route_id'], avg_delay_per_route['average_delay'], color=colors)\n",
    "plt.xlabel('Route')\n",
    "plt.ylabel('Average Absolute Delay (seconds)')\n",
    "plt.title('Average Absolute Delay per Route (Highlighted Routes in Red)')\n",
    "plt.xticks(rotation=45)\n",
    "plt.tight_layout()\n",
    "plt.show()"
   ]
  }
 ],
 "metadata": {
  "language_info": {
   "name": "python"
  }
 },
 "nbformat": 4,
 "nbformat_minor": 2
}
