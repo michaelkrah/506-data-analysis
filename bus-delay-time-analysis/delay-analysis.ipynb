{
 "cells": [
  {
   "cell_type": "code",
   "execution_count": null,
   "metadata": {
    "vscode": {
     "languageId": "plaintext"
    }
   },
   "outputs": [],
   "source": [
    "import numpy as np\n",
    "import matplotlib.pyplot as plt\n",
    "import pandas as pd\n"
   ]
  },
  {
   "cell_type": "code",
   "execution_count": null,
   "metadata": {
    "vscode": {
     "languageId": "plaintext"
    }
   },
   "outputs": [],
   "source": [
    "# Sample file, from Dec 2024\n",
    "# https://mbta-massdot.opendata.arcgis.com/datasets/924df13d845f4907bb6a6c3ed380d57a/about\n",
    "filename = \"MBTA-Bus-Arrival-Departure-Times_2024-12.csv\"\n"
   ]
  },
  {
   "cell_type": "code",
   "execution_count": null,
   "metadata": {
    "vscode": {
     "languageId": "plaintext"
    }
   },
   "outputs": [],
   "source": [
    "df = pd.read_csv(filename, low_memory=False)"
   ]
  },
  {
   "cell_type": "code",
   "execution_count": null,
   "metadata": {
    "vscode": {
     "languageId": "plaintext"
    }
   },
   "outputs": [],
   "source": [
    "print(df.head())\n",
    "print(df.shape)\n",
    "print(df.describe)"
   ]
  },
  {
   "cell_type": "code",
   "execution_count": null,
   "metadata": {
    "vscode": {
     "languageId": "plaintext"
    }
   },
   "outputs": [],
   "source": [
    "# Calculate delay for each station in seconds\n",
    "df['time_difference'] = pd.to_datetime(df['actual']) - pd.to_datetime(df['scheduled'])\n",
    "df['delay_seconds'] = df['time_difference'].dt.total_seconds()\n"
   ]
  },
  {
   "cell_type": "code",
   "execution_count": null,
   "metadata": {
    "vscode": {
     "languageId": "plaintext"
    }
   },
   "outputs": [],
   "source": [
    "# Calculate headway delay for each station in seconds \n",
    "# Headway is the amount of time that has passed since the previous bus stopped at the station\n",
    "df['headway_delay'] = df['headway'] - df['scheduled_headway']"
   ]
  },
  {
   "cell_type": "code",
   "execution_count": null,
   "metadata": {
    "vscode": {
     "languageId": "plaintext"
    }
   },
   "outputs": [],
   "source": [
    "print(df.head())\n"
   ]
  },
  {
   "cell_type": "code",
   "execution_count": null,
   "metadata": {
    "vscode": {
     "languageId": "plaintext"
    }
   },
   "outputs": [],
   "source": [
    "# Save as a CSV if wanted, optional to check manually\n",
    "df.to_csv('MBTA-Bus-Arrival-Departure-Times_2024-12-with-delay.csv', index=False)"
   ]
  },
  {
   "cell_type": "code",
   "execution_count": null,
   "metadata": {},
   "outputs": [],
   "source": [
    "# Understanding where data is missing, what gaps there might be\n",
    "df['delay_seconds'] = pd.to_numeric(df['delay_seconds'], errors='coerce')\n",
    "total_count = df.shape[0]\n",
    "incomplete_count = df['delay_seconds'].isna().sum()\n",
    "\n",
    "print(\"Number of total results in delay_seconds:\", total_count)\n",
    "print(\"Number of incomplete results in delay_seconds:\", incomplete_count)\n",
    "print(\"Percent incomplete:\", incomplete_count/total_count)"
   ]
  },
  {
   "cell_type": "code",
   "execution_count": null,
   "metadata": {},
   "outputs": [],
   "source": [
    "df['delay_headway'] = pd.to_numeric(df['delay_headway'], errors='coerce')\n",
    "total_count = df.shape[0]\n",
    "\n",
    "incomplete_count = df['delay_headway'].isna().sum()\n",
    "\n",
    "print(\"Number of total results in delay_headway:\", total_count)\n",
    "print(\"Number of incomplete results in delay_headway:\", incomplete_count)\n",
    "print(\"Percent incomplete:\", incomplete_count/total_count)"
   ]
  },
  {
   "cell_type": "code",
   "execution_count": null,
   "metadata": {},
   "outputs": [],
   "source": [
    "# Shows that some routes don't calculate headway, might be a result of station location / if it's an endpoint, need to look into more\n",
    "\n",
    "grouped = df.groupby(['route_id'])\n",
    "\n",
    "result = grouped['delay_headway'].agg(\n",
    "    total_count='size',  \n",
    "    incomplete_count=lambda x: x.isna().sum() \n",
    ")\n",
    "\n",
    "# Calculate the percent incomplete for each group\n",
    "result['percent_incomplete'] = result['incomplete_count'] / result['total_count']\n",
    "\n",
    "for result in result.iterrows():\n",
    "  print(f\"Route: {result[0]}, percent incomplete: {result[1][2]}\")"
   ]
  },
  {
   "cell_type": "code",
   "execution_count": null,
   "metadata": {},
   "outputs": [],
   "source": [
    "# Same with some stops, will try grouping by location to see if there's a cause or a way it can be mitigated\n",
    "\n",
    "grouped = df.groupby(['stop_id'])\n",
    "\n",
    "result = grouped['delay_headway'].agg(\n",
    "    total_count='size',  \n",
    "    incomplete_count=lambda x: x.isna().sum() \n",
    ")\n",
    "\n",
    "# Calculate the percent incomplete for each group\n",
    "result['percent_incomplete'] = result['incomplete_count'] / result['total_count']\n",
    "\n",
    "for result in result.iterrows():\n",
    "  print(f\"Stop: {result[0]}, percent incomplete: {result[1][2]}\")"
   ]
  },
  {
   "cell_type": "code",
   "execution_count": null,
   "metadata": {},
   "outputs": [],
   "source": [
    "# For now will only look at delay and not headway delay, much more consistent with less missing\n",
    "\n",
    "delays = df['delay_seconds'].dropna()\n",
    "\n",
    "counts, bin_edges = np.histogram(delays, bins=1000)\n",
    "bin_centers = 0.5 * (bin_edges[1:] + bin_edges[:-1])\n",
    "\n",
    "plt.figure(figsize=(10, 6))\n",
    "plt.bar(bin_centers, counts, width=(bin_edges[1] - bin_edges[0]) * 0.9)\n",
    "plt.title(\"Delay Distribution for Entire Dataset\")\n",
    "plt.xlabel(\"Delay (seconds)\")\n",
    "plt.ylabel(\"Frequency\")\n",
    "plt.show()\n",
    "\n",
    "\n",
    "# Have issues with outliers, will exclude results over +-1200 seconds (20 minutes) to address miscalculations\n",
    "# Rough solution for now, can look into further to see if there's an issue with how date is displayed in some cases"
   ]
  },
  {
   "cell_type": "code",
   "execution_count": null,
   "metadata": {},
   "outputs": [],
   "source": [
    "filtered_df = df[(df['delay_seconds'] >= -1200) & (df['delay_seconds'] <= 1200)]\n",
    "grouped = filtered_df.groupby(['stop_id'])\n",
    "\n",
    "\n",
    "# Calculate aggregate statistics for each group: average delay, minimum delay, maximum delay.\n",
    "stats = grouped['delay_seconds'].agg(average_delay='mean',\n",
    "                                      min_delay='min',\n",
    "                                      max_delay='max')\n",
    "\n",
    "print(stats)\n",
    "\n",
    "\n",
    "\n",
    "# For now ignoring headway delay, very useful but need to look more into what's causing the delay"
   ]
  },
  {
   "cell_type": "code",
   "execution_count": null,
   "metadata": {},
   "outputs": [],
   "source": [
    "# Create histograms of the delays to get a rough understanding of delay distribution for some stops\n",
    "\n",
    "count = 0\n",
    "\n",
    "for stop, group in grouped:\n",
    "\n",
    "    if count % 50 == 0:\n",
    "\n",
    "      delays = group['delay_seconds'].dropna()\n",
    "      \n",
    "\n",
    "      if delays.empty:\n",
    "          continue\n",
    "\n",
    "\n",
    "      counts, bin_edges = np.histogram(delays, bins=20)\n",
    "      \n",
    "\n",
    "      bin_centers = 0.5 * (bin_edges[1:] + bin_edges[:-1])\n",
    "      \n",
    "\n",
    "      plt.figure()\n",
    "      plt.bar(bin_centers, counts, width=(bin_edges[1]-bin_edges[0]) * 0.9)\n",
    "      plt.title(f\"Delay Distribution for Stop {stop}\")\n",
    "      plt.xlabel(\"Delay (seconds)\")\n",
    "      plt.ylabel(\"Frequency\")\n",
    "      plt.show()\n",
    "\n",
    "    count = count + 1 # only want to get a rough understanding, don't need 1000+ diagrams\n"
   ]
  }
 ],
 "metadata": {
  "language_info": {
   "name": "python"
  }
 },
 "nbformat": 4,
 "nbformat_minor": 2
}
